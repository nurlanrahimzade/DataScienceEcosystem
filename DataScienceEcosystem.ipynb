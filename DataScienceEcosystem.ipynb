{
 "cells": [
  {
   "cell_type": "markdown",
   "id": "fdaa85a1",
   "metadata": {},
   "source": [
    "# Data Science Tools and Ecosystem"
   ]
  },
  {
   "cell_type": "markdown",
   "id": "4bcb8924",
   "metadata": {},
   "source": [
    "# In this notebook, Data Science Tools and Ecosystem are summarized."
   ]
  },
  {
   "cell_type": "markdown",
   "id": "308cce63",
   "metadata": {},
   "source": [
    "# Some ofthe popular languages that Data Scientists use are:\n",
    "1. R\n",
    "2. Python \n",
    "3. C++\n",
    "4. Java\n",
    "\n"
   ]
  },
  {
   "cell_type": "markdown",
   "id": "ff486f79",
   "metadata": {},
   "source": [
    "# Some of the commonly used libraries used by Data Scientists include:\n",
    "\n",
    "ordered list: \n",
    "* Numpy \n",
    "* Pandas\n",
    "* Matplotlib\n",
    "    "
   ]
  },
  {
   "cell_type": "markdown",
   "id": "232a1fce",
   "metadata": {},
   "source": [
    "Data Science Tools\n",
    "- Jupyter Notebook\n",
    "- RStudio\n",
    "- Apache Zeppelin\n"
   ]
  },
  {
   "cell_type": "markdown",
   "id": "f4e5125b",
   "metadata": {},
   "source": [
    "### Below are a few examples of evaluating arithmetic expressions in Python\n"
   ]
  },
  {
   "cell_type": "code",
   "execution_count": 1,
   "id": "e41adbae",
   "metadata": {},
   "outputs": [
    {
     "data": {
      "text/plain": [
       "17"
      ]
     },
     "execution_count": 1,
     "metadata": {},
     "output_type": "execute_result"
    }
   ],
   "source": [
    "# This a simple arithmetic expression to mutiply then add integers\n",
    "(3*4)+5\n",
    "\n"
   ]
  },
  {
   "cell_type": "code",
   "execution_count": 2,
   "id": "59c20270",
   "metadata": {},
   "outputs": [
    {
     "name": "stdout",
     "output_type": "stream",
     "text": [
      "3.3333333333333335\n"
     ]
    }
   ],
   "source": [
    "# This will convert 200 minutes to hours by dividing by 60\n",
    "hours = 200 / 60\n",
    "print(hours)\n"
   ]
  },
  {
   "cell_type": "markdown",
   "id": "8790345e",
   "metadata": {},
   "source": [
    "**Objectives:**\n",
    "\n",
    "- List popular languages for Data Science.\n",
    "- Demonstrate basic data analysis techniques.\n",
    "- Show examples of data visualization.\n",
    "- Introduce machine learning concepts.\n",
    "- Explain the importance of data cleaning and preparation.\n"
   ]
  },
  {
   "cell_type": "markdown",
   "id": "2a3ca255",
   "metadata": {},
   "source": [
    "## Author\n",
    "Nurlan\n"
   ]
  }
 ],
 "metadata": {
  "kernelspec": {
   "display_name": "Python 3 (ipykernel)",
   "language": "python",
   "name": "python3"
  },
  "language_info": {
   "codemirror_mode": {
    "name": "ipython",
    "version": 3
   },
   "file_extension": ".py",
   "mimetype": "text/x-python",
   "name": "python",
   "nbconvert_exporter": "python",
   "pygments_lexer": "ipython3",
   "version": "3.11.5"
  }
 },
 "nbformat": 4,
 "nbformat_minor": 5
}
